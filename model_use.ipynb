{
 "cells": [
  {
   "cell_type": "code",
   "execution_count": 1,
   "metadata": {},
   "outputs": [
    {
     "name": "stderr",
     "output_type": "stream",
     "text": [
      "d:\\work\\AiThinks\\RussianSimilarity\\.venv\\lib\\site-packages\\tqdm\\auto.py:21: TqdmWarning: IProgress not found. Please update jupyter and ipywidgets. See https://ipywidgets.readthedocs.io/en/stable/user_install.html\n",
      "  from .autonotebook import tqdm as notebook_tqdm\n"
     ]
    }
   ],
   "source": [
    "from config import Configurator\n",
    "from russian_transformer import SentenceTransformer\n",
    "import pandas as pd \n",
    "pd.set_option('display.max_colwidth', None)"
   ]
  },
  {
   "cell_type": "code",
   "execution_count": 2,
   "metadata": {},
   "outputs": [
    {
     "data": {
      "text/html": [
       "<div>\n",
       "<style scoped>\n",
       "    .dataframe tbody tr th:only-of-type {\n",
       "        vertical-align: middle;\n",
       "    }\n",
       "\n",
       "    .dataframe tbody tr th {\n",
       "        vertical-align: top;\n",
       "    }\n",
       "\n",
       "    .dataframe thead th {\n",
       "        text-align: right;\n",
       "    }\n",
       "</style>\n",
       "<table border=\"1\" class=\"dataframe\">\n",
       "  <thead>\n",
       "    <tr style=\"text-align: right;\">\n",
       "      <th></th>\n",
       "      <th>sentence1</th>\n",
       "      <th>sentence2</th>\n",
       "      <th>sentence1_translation</th>\n",
       "      <th>sentence2_translation</th>\n",
       "    </tr>\n",
       "  </thead>\n",
       "  <tbody>\n",
       "    <tr>\n",
       "      <th>0</th>\n",
       "      <td>Kargom ne zaman teslim edilecek?</td>\n",
       "      <td>Kargonun teslimat tarihi nedir?</td>\n",
       "      <td>Когда моя посылка будет доставлена?</td>\n",
       "      <td>Какая дата доставки посылки?</td>\n",
       "    </tr>\n",
       "    <tr>\n",
       "      <th>1</th>\n",
       "      <td>Kargo takip numaramı nasıl bulabilirim?</td>\n",
       "      <td>Kargo takip numarası nasıl öğrenilir?</td>\n",
       "      <td>Как я могу найти номер отслеживания груза?</td>\n",
       "      <td>Как узнать номер отслеживания груза?</td>\n",
       "    </tr>\n",
       "    <tr>\n",
       "      <th>2</th>\n",
       "      <td>Kargo gönderim ücretleri nedir?</td>\n",
       "      <td>Kargonun gönderim masrafları ne kadar?</td>\n",
       "      <td>Сколько стоит доставка груза?</td>\n",
       "      <td>Каковы расходы на доставку груза?</td>\n",
       "    </tr>\n",
       "    <tr>\n",
       "      <th>3</th>\n",
       "      <td>Kargom kayboldu, ne yapmalıyım?</td>\n",
       "      <td>Kargo kaybolursa ne gibi adımlar atmalıyım?</td>\n",
       "      <td>Моя посылка потерялась, что мне делать?</td>\n",
       "      <td>Что делать, если груз потерялся?</td>\n",
       "    </tr>\n",
       "    <tr>\n",
       "      <th>4</th>\n",
       "      <td>İade süreci hakkında bilgi alabilir miyim?</td>\n",
       "      <td>Ürün iade prosedürleri hakkında bilgi verebilir misiniz?</td>\n",
       "      <td>Могу ли я получить информацию о процедуре возврата?</td>\n",
       "      <td>Можете ли вы предоставить информацию о процедурах возврата товара?</td>\n",
       "    </tr>\n",
       "  </tbody>\n",
       "</table>\n",
       "</div>"
      ],
      "text/plain": [
       "                                    sentence1  \\\n",
       "0            Kargom ne zaman teslim edilecek?   \n",
       "1     Kargo takip numaramı nasıl bulabilirim?   \n",
       "2             Kargo gönderim ücretleri nedir?   \n",
       "3             Kargom kayboldu, ne yapmalıyım?   \n",
       "4  İade süreci hakkında bilgi alabilir miyim?   \n",
       "\n",
       "                                                  sentence2  \\\n",
       "0                           Kargonun teslimat tarihi nedir?   \n",
       "1                     Kargo takip numarası nasıl öğrenilir?   \n",
       "2                    Kargonun gönderim masrafları ne kadar?   \n",
       "3               Kargo kaybolursa ne gibi adımlar atmalıyım?   \n",
       "4  Ürün iade prosedürleri hakkında bilgi verebilir misiniz?   \n",
       "\n",
       "                                 sentence1_translation  \\\n",
       "0                  Когда моя посылка будет доставлена?   \n",
       "1           Как я могу найти номер отслеживания груза?   \n",
       "2                        Сколько стоит доставка груза?   \n",
       "3              Моя посылка потерялась, что мне делать?   \n",
       "4  Могу ли я получить информацию о процедуре возврата?   \n",
       "\n",
       "                                                sentence2_translation  \n",
       "0                                        Какая дата доставки посылки?  \n",
       "1                                Как узнать номер отслеживания груза?  \n",
       "2                                   Каковы расходы на доставку груза?  \n",
       "3                                    Что делать, если груз потерялся?  \n",
       "4  Можете ли вы предоставить информацию о процедурах возврата товара?  "
      ]
     },
     "execution_count": 2,
     "metadata": {},
     "output_type": "execute_result"
    }
   ],
   "source": [
    "cfg = Configurator(json_file_path=\"sentences_RU.json\")\n",
    "df = pd.DataFrame(cfg.data[\"sentences\"])\n",
    "df.head()"
   ]
  },
  {
   "cell_type": "markdown",
   "metadata": {},
   "source": [
    "# sbert_large_nlu_ru"
   ]
  },
  {
   "cell_type": "code",
   "execution_count": 3,
   "metadata": {},
   "outputs": [],
   "source": [
    "sbert_ru = SentenceTransformer(\"ai-forever/sbert_large_nlu_ru\")"
   ]
  },
  {
   "cell_type": "code",
   "execution_count": 4,
   "metadata": {},
   "outputs": [
    {
     "name": "stderr",
     "output_type": "stream",
     "text": [
      "Asking to truncate to max_length but no maximum length is provided and the model has no predefined maximum length. Default to no truncation.\n"
     ]
    },
    {
     "data": {
      "text/plain": [
       "0.64667773"
      ]
     },
     "execution_count": 4,
     "metadata": {},
     "output_type": "execute_result"
    }
   ],
   "source": [
    "sbert_ru.get_similarity(sentences=[\"Как я могу найти номер отслеживания груза?\",\"Когда моя посылка будет доставлена?\"])\n",
    "## Kargo takip numaramı nasıl bulabilirim?\t / Kargom ne zaman teslim edilecek?"
   ]
  },
  {
   "cell_type": "code",
   "execution_count": 5,
   "metadata": {},
   "outputs": [
    {
     "name": "stderr",
     "output_type": "stream",
     "text": [
      "Asking to truncate to max_length but no maximum length is provided and the model has no predefined maximum length. Default to no truncation.\n"
     ]
    },
    {
     "data": {
      "text/plain": [
       "0.76919764"
      ]
     },
     "execution_count": 5,
     "metadata": {},
     "output_type": "execute_result"
    }
   ],
   "source": [
    "sbert_ru.get_similarity(sentences=[\"Когда моя посылка будет доставлена?\",\"Какая дата доставки посылки?\"])\n"
   ]
  },
  {
   "cell_type": "code",
   "execution_count": 9,
   "metadata": {},
   "outputs": [
    {
     "name": "stderr",
     "output_type": "stream",
     "text": [
      "Asking to truncate to max_length but no maximum length is provided and the model has no predefined maximum length. Default to no truncation.\n"
     ]
    },
    {
     "data": {
      "text/plain": [
       "0.5666791"
      ]
     },
     "execution_count": 9,
     "metadata": {},
     "output_type": "execute_result"
    }
   ],
   "source": [
    "sbert_ru.get_similarity(sentences=[\"Как инициировать процесс возврата?\",\"Что мне следует сделать, чтобы вернуть товар?\"])\n"
   ]
  },
  {
   "cell_type": "code",
   "execution_count": 6,
   "metadata": {},
   "outputs": [
    {
     "name": "stderr",
     "output_type": "stream",
     "text": [
      "Asking to truncate to max_length but no maximum length is provided and the model has no predefined maximum length. Default to no truncation.\n"
     ]
    },
    {
     "name": "stdout",
     "output_type": "stream",
     "text": [
      "0. Cümle çifti:\n",
      "sentence1                   Kargom ne zaman teslim edilecek?\n",
      "sentence2                    Kargonun teslimat tarihi nedir?\n",
      "sentence1_translation    Когда моя посылка будет доставлена?\n",
      "sentence2_translation           Какая дата доставки посылки?\n",
      "Name: 0, dtype: object\n",
      "Similarity Score:0.7691976428031921\n",
      "\n"
     ]
    },
    {
     "name": "stderr",
     "output_type": "stream",
     "text": [
      "Asking to truncate to max_length but no maximum length is provided and the model has no predefined maximum length. Default to no truncation.\n"
     ]
    },
    {
     "name": "stdout",
     "output_type": "stream",
     "text": [
      "1. Cümle çifti:\n",
      "sentence1                   Kargo takip numaramı nasıl bulabilirim?\n",
      "sentence2                     Kargo takip numarası nasıl öğrenilir?\n",
      "sentence1_translation    Как я могу найти номер отслеживания груза?\n",
      "sentence2_translation          Как узнать номер отслеживания груза?\n",
      "Name: 1, dtype: object\n",
      "Similarity Score:0.9192502498626709\n",
      "\n"
     ]
    },
    {
     "name": "stderr",
     "output_type": "stream",
     "text": [
      "Asking to truncate to max_length but no maximum length is provided and the model has no predefined maximum length. Default to no truncation.\n"
     ]
    },
    {
     "name": "stdout",
     "output_type": "stream",
     "text": [
      "2. Cümle çifti:\n",
      "sentence1                       Kargo gönderim ücretleri nedir?\n",
      "sentence2                Kargonun gönderim masrafları ne kadar?\n",
      "sentence1_translation             Сколько стоит доставка груза?\n",
      "sentence2_translation         Каковы расходы на доставку груза?\n",
      "Name: 2, dtype: object\n",
      "Similarity Score:0.8952713012695312\n",
      "\n"
     ]
    },
    {
     "name": "stderr",
     "output_type": "stream",
     "text": [
      "Asking to truncate to max_length but no maximum length is provided and the model has no predefined maximum length. Default to no truncation.\n"
     ]
    },
    {
     "name": "stdout",
     "output_type": "stream",
     "text": [
      "3. Cümle çifti:\n",
      "sentence1                            Kargom kayboldu, ne yapmalıyım?\n",
      "sentence2                Kargo kaybolursa ne gibi adımlar atmalıyım?\n",
      "sentence1_translation        Моя посылка потерялась, что мне делать?\n",
      "sentence2_translation               Что делать, если груз потерялся?\n",
      "Name: 3, dtype: object\n",
      "Similarity Score:0.7137115001678467\n",
      "\n"
     ]
    },
    {
     "name": "stderr",
     "output_type": "stream",
     "text": [
      "Asking to truncate to max_length but no maximum length is provided and the model has no predefined maximum length. Default to no truncation.\n"
     ]
    },
    {
     "name": "stdout",
     "output_type": "stream",
     "text": [
      "4. Cümle çifti:\n",
      "sentence1                                        İade süreci hakkında bilgi alabilir miyim?\n",
      "sentence2                          Ürün iade prosedürleri hakkında bilgi verebilir misiniz?\n",
      "sentence1_translation                   Могу ли я получить информацию о процедуре возврата?\n",
      "sentence2_translation    Можете ли вы предоставить информацию о процедурах возврата товара?\n",
      "Name: 4, dtype: object\n",
      "Similarity Score:0.7811870574951172\n",
      "\n"
     ]
    },
    {
     "name": "stderr",
     "output_type": "stream",
     "text": [
      "Asking to truncate to max_length but no maximum length is provided and the model has no predefined maximum length. Default to no truncation.\n"
     ]
    },
    {
     "name": "stdout",
     "output_type": "stream",
     "text": [
      "5. Cümle çifti:\n",
      "sentence1                 İade etmek istediğim ürünü nasıl göndermeliyim?\n",
      "sentence2                İade etmek istediğim ürünü nasıl iade etmeliyim?\n",
      "sentence1_translation    Как мне отправить товар, который я хочу вернуть?\n",
      "sentence2_translation      Как мне вернуть товар, который я хочу вернуть?\n",
      "Name: 5, dtype: object\n",
      "Similarity Score:0.9314578771591187\n",
      "\n"
     ]
    },
    {
     "name": "stderr",
     "output_type": "stream",
     "text": [
      "Asking to truncate to max_length but no maximum length is provided and the model has no predefined maximum length. Default to no truncation.\n"
     ]
    },
    {
     "name": "stdout",
     "output_type": "stream",
     "text": [
      "6. Cümle çifti:\n",
      "sentence1                       İade işlemi için gerekli belgeler nelerdir?\n",
      "sentence2                  Ürün iade işlemi için hangi belgeler gereklidir?\n",
      "sentence1_translation    Какие документы необходимы для процедуры возврата?\n",
      "sentence2_translation        Какие документы требуются для возврата товара?\n",
      "Name: 6, dtype: object\n",
      "Similarity Score:0.874445378780365\n",
      "\n"
     ]
    },
    {
     "name": "stderr",
     "output_type": "stream",
     "text": [
      "Asking to truncate to max_length but no maximum length is provided and the model has no predefined maximum length. Default to no truncation.\n"
     ]
    },
    {
     "name": "stdout",
     "output_type": "stream",
     "text": [
      "7. Cümle çifti:\n",
      "sentence1                     Kargo iade talebi nasıl oluşturulur?\n",
      "sentence2                         Kargo iade talebi nasıl yapılır?\n",
      "sentence1_translation    Как сформировать заявку на возврат груза?\n",
      "sentence2_translation                 Как запросить возврат груза?\n",
      "Name: 7, dtype: object\n",
      "Similarity Score:0.9061808586120605\n",
      "\n"
     ]
    },
    {
     "name": "stderr",
     "output_type": "stream",
     "text": [
      "Asking to truncate to max_length but no maximum length is provided and the model has no predefined maximum length. Default to no truncation.\n"
     ]
    },
    {
     "name": "stdout",
     "output_type": "stream",
     "text": [
      "8. Cümle çifti:\n",
      "sentence1                Kargomu iade ettikten sonra ne zaman geri ödeme alırım?\n",
      "sentence2                              Ürün iadesi sonrası ne zaman iade alırım?\n",
      "sentence1_translation       Когда я получу возврат средств после возврата груза?\n",
      "sentence2_translation              Когда я получу возврат после возврата товара?\n",
      "Name: 8, dtype: object\n",
      "Similarity Score:0.9419919848442078\n",
      "\n"
     ]
    },
    {
     "name": "stderr",
     "output_type": "stream",
     "text": [
      "Asking to truncate to max_length but no maximum length is provided and the model has no predefined maximum length. Default to no truncation.\n"
     ]
    },
    {
     "name": "stdout",
     "output_type": "stream",
     "text": [
      "9. Cümle çifti:\n",
      "sentence1                     Ürün iade politikalarınız nedir?\n",
      "sentence2                     Ürün iade kurallarınız nelerdir?\n",
      "sentence1_translation    Каковы ваши политики возврата товара?\n",
      "sentence2_translation     Какие у вас правила возврата товара?\n",
      "Name: 9, dtype: object\n",
      "Similarity Score:0.8593136072158813\n",
      "\n"
     ]
    },
    {
     "name": "stderr",
     "output_type": "stream",
     "text": [
      "Asking to truncate to max_length but no maximum length is provided and the model has no predefined maximum length. Default to no truncation.\n"
     ]
    },
    {
     "name": "stdout",
     "output_type": "stream",
     "text": [
      "10. Cümle çifti:\n",
      "sentence1                           Ürün iadesi için kaç gün sürem var?\n",
      "sentence2                     Ürünü iade etmek için ne kadar sürem var?\n",
      "sentence1_translation       Сколько дней у меня есть на возврат товара?\n",
      "sentence2_translation    Сколько времени у меня есть на возврат товара?\n",
      "Name: 10, dtype: object\n",
      "Similarity Score:0.9687937498092651\n",
      "\n"
     ]
    },
    {
     "name": "stderr",
     "output_type": "stream",
     "text": [
      "Asking to truncate to max_length but no maximum length is provided and the model has no predefined maximum length. Default to no truncation.\n"
     ]
    },
    {
     "name": "stdout",
     "output_type": "stream",
     "text": [
      "11. Cümle çifti:\n",
      "sentence1                Kargo teslimat adresimi nasıl güncelleyebilirim?\n",
      "sentence2                 Kargo teslimat adresimi nasıl değiştirebilirim?\n",
      "sentence1_translation       Как я могу обновить мой адрес доставки груза?\n",
      "sentence2_translation       Как я могу изменить мой адрес доставки груза?\n",
      "Name: 11, dtype: object\n",
      "Similarity Score:0.9424241781234741\n",
      "\n"
     ]
    },
    {
     "name": "stderr",
     "output_type": "stream",
     "text": [
      "Asking to truncate to max_length but no maximum length is provided and the model has no predefined maximum length. Default to no truncation.\n"
     ]
    },
    {
     "name": "stdout",
     "output_type": "stream",
     "text": [
      "12. Cümle çifti:\n",
      "sentence1                                       Kargo teslimat sırasında eksik veya hasarlı ürün aldım, ne yapmalıyım?\n",
      "sentence2                               Kargo teslimatında eksik veya hasarlı ürün aldığımı fark ettim, ne yapmalıyım?\n",
      "sentence1_translation       Что мне делать, если я получил недостающий или поврежденный товар во время доставки груза?\n",
      "sentence2_translation    Что делать, если я заметил, что у меня недостающий или поврежденный товар при доставке груза?\n",
      "Name: 12, dtype: object\n",
      "Similarity Score:0.9614288806915283\n",
      "\n"
     ]
    },
    {
     "name": "stderr",
     "output_type": "stream",
     "text": [
      "Asking to truncate to max_length but no maximum length is provided and the model has no predefined maximum length. Default to no truncation.\n"
     ]
    },
    {
     "name": "stdout",
     "output_type": "stream",
     "text": [
      "13. Cümle çifti:\n",
      "sentence1                Kargomun güzergahını nasıl takip edebilirim?\n",
      "sentence2                      Kargonun rotasını nasıl izleyebilirim?\n",
      "sentence1_translation    Как я могу отслеживать маршрут моей посылки?\n",
      "sentence2_translation           Как я могу отслеживать маршрут груза?\n",
      "Name: 13, dtype: object\n",
      "Similarity Score:0.8986619114875793\n",
      "\n"
     ]
    },
    {
     "name": "stderr",
     "output_type": "stream",
     "text": [
      "Asking to truncate to max_length but no maximum length is provided and the model has no predefined maximum length. Default to no truncation.\n"
     ]
    },
    {
     "name": "stdout",
     "output_type": "stream",
     "text": [
      "14. Cümle çifti:\n",
      "sentence1                          Kargo takip numarası nereden bulunur?\n",
      "sentence2                            Kargo takip numarası nasıl bulunur?\n",
      "sentence1_translation    Откуда можно получить номер отслеживания груза?\n",
      "sentence2_translation                Как найти номер отслеживания груза?\n",
      "Name: 14, dtype: object\n",
      "Similarity Score:0.8926692605018616\n",
      "\n"
     ]
    },
    {
     "name": "stderr",
     "output_type": "stream",
     "text": [
      "Asking to truncate to max_length but no maximum length is provided and the model has no predefined maximum length. Default to no truncation.\n"
     ]
    },
    {
     "name": "stdout",
     "output_type": "stream",
     "text": [
      "15. Cümle çifti:\n",
      "sentence1                              Kargom hangi kargo şirketiyle gönderildi?\n",
      "sentence2                            Kargonun taşıyıcısı hangi kargo firmasıdır?\n",
      "sentence1_translation    С какой курьерской службой была отправлена моя посылка?\n",
      "sentence2_translation         Какая компания является перевозчиком моей посылки?\n",
      "Name: 15, dtype: object\n",
      "Similarity Score:0.795284628868103\n",
      "\n"
     ]
    },
    {
     "name": "stderr",
     "output_type": "stream",
     "text": [
      "Asking to truncate to max_length but no maximum length is provided and the model has no predefined maximum length. Default to no truncation.\n"
     ]
    },
    {
     "name": "stdout",
     "output_type": "stream",
     "text": [
      "16. Cümle çifti:\n",
      "sentence1                          Kargo teslimat süresi nedir?\n",
      "sentence2                      Kargonun ulaşım süresi ne kadar?\n",
      "sentence1_translation              Каково время доставки груза?\n",
      "sentence2_translation    Сколько времени займет доставка груза?\n",
      "Name: 16, dtype: object\n",
      "Similarity Score:0.8880320191383362\n",
      "\n"
     ]
    },
    {
     "name": "stderr",
     "output_type": "stream",
     "text": [
      "Asking to truncate to max_length but no maximum length is provided and the model has no predefined maximum length. Default to no truncation.\n"
     ]
    },
    {
     "name": "stdout",
     "output_type": "stream",
     "text": [
      "17. Cümle çifti:\n",
      "sentence1                     Kargomu başka bir adrese yönlendirebilir miyim?\n",
      "sentence2                    Kargonun teslimat adresini değiştirebilir miyim?\n",
      "sentence1_translation    Могу ли я перенаправить мою посылку на другой адрес?\n",
      "sentence2_translation                Могу ли я изменить адрес доставки груза?\n",
      "Name: 17, dtype: object\n",
      "Similarity Score:0.8430757522583008\n",
      "\n"
     ]
    },
    {
     "name": "stderr",
     "output_type": "stream",
     "text": [
      "Asking to truncate to max_length but no maximum length is provided and the model has no predefined maximum length. Default to no truncation.\n"
     ]
    },
    {
     "name": "stdout",
     "output_type": "stream",
     "text": [
      "18. Cümle çifti:\n",
      "sentence1                            Ürün sorgulama nasıl yapılır?\n",
      "sentence2                Ürünün durumunu nasıl kontrol edebilirim?\n",
      "sentence1_translation             Как осуществляется поиск товара?\n",
      "sentence2_translation       Как я могу проверить состояние товара?\n",
      "Name: 18, dtype: object\n",
      "Similarity Score:0.7395608425140381\n",
      "\n"
     ]
    },
    {
     "name": "stderr",
     "output_type": "stream",
     "text": [
      "Asking to truncate to max_length but no maximum length is provided and the model has no predefined maximum length. Default to no truncation.\n"
     ]
    },
    {
     "name": "stdout",
     "output_type": "stream",
     "text": [
      "19. Cümle çifti:\n",
      "sentence1                        Ürünün durumu hakkında bilgi alabilir miyim?\n",
      "sentence2                Ürünün şu anki durumu hakkında bilgi alabilir miyim?\n",
      "sentence1_translation       Могу ли я получить информацию о состоянии товара?\n",
      "sentence2_translation              Могу ли я узнать текущее состояние товара?\n",
      "Name: 19, dtype: object\n",
      "Similarity Score:0.9507343769073486\n",
      "\n"
     ]
    },
    {
     "name": "stderr",
     "output_type": "stream",
     "text": [
      "Asking to truncate to max_length but no maximum length is provided and the model has no predefined maximum length. Default to no truncation.\n"
     ]
    },
    {
     "name": "stdout",
     "output_type": "stream",
     "text": [
      "20. Cümle çifti:\n",
      "sentence1                Kargo teslimat saatleri nedir?\n",
      "sentence2                 Kargo ne zaman teslim edilir?\n",
      "sentence1_translation      Каково время доставки груза?\n",
      "sentence2_translation       Когда будет доставлен груз?\n",
      "Name: 20, dtype: object\n",
      "Similarity Score:0.8790013790130615\n",
      "\n"
     ]
    },
    {
     "name": "stderr",
     "output_type": "stream",
     "text": [
      "Asking to truncate to max_length but no maximum length is provided and the model has no predefined maximum length. Default to no truncation.\n"
     ]
    },
    {
     "name": "stdout",
     "output_type": "stream",
     "text": [
      "21. Cümle çifti:\n",
      "sentence1                       Kargom elime ulaşmadı, ne yapmalıyım?\n",
      "sentence2                Kargonuz teslim edilmediyse ne yapmalısınız?\n",
      "sentence1_translation      Моя посылка не доставлена, что мне делать?\n",
      "sentence2_translation         Что делать, если ваш груз не доставлен?\n",
      "Name: 21, dtype: object\n",
      "Similarity Score:0.7566962242126465\n",
      "\n"
     ]
    },
    {
     "name": "stderr",
     "output_type": "stream",
     "text": [
      "Asking to truncate to max_length but no maximum length is provided and the model has no predefined maximum length. Default to no truncation.\n"
     ]
    },
    {
     "name": "stdout",
     "output_type": "stream",
     "text": [
      "22. Cümle çifti:\n",
      "sentence1                         Kargo takip numarasıyla kargomu nerede bulabilirim?\n",
      "sentence2                Kargo takip numarası kullanarak kargonuzu nasıl bulabilirim?\n",
      "sentence1_translation        Где я могу найти мой груз с помощью номера отслеживания?\n",
      "sentence2_translation               Как найти мой груз, используя номер отслеживания?\n",
      "Name: 22, dtype: object\n",
      "Similarity Score:0.881149411201477\n",
      "\n"
     ]
    },
    {
     "name": "stderr",
     "output_type": "stream",
     "text": [
      "Asking to truncate to max_length but no maximum length is provided and the model has no predefined maximum length. Default to no truncation.\n"
     ]
    },
    {
     "name": "stdout",
     "output_type": "stream",
     "text": [
      "23. Cümle çifti:\n",
      "sentence1                                Kargomu başkası alabilir mi?\n",
      "sentence2                    Başka biri kargonuzu teslim alabilir mi?\n",
      "sentence1_translation    Может ли кто-то другой получить мою посылку?\n",
      "sentence2_translation       Может ли кто-то другой получить ваш груз?\n",
      "Name: 23, dtype: object\n",
      "Similarity Score:0.7962445020675659\n",
      "\n"
     ]
    },
    {
     "name": "stderr",
     "output_type": "stream",
     "text": [
      "Asking to truncate to max_length but no maximum length is provided and the model has no predefined maximum length. Default to no truncation.\n"
     ]
    },
    {
     "name": "stdout",
     "output_type": "stream",
     "text": [
      "24. Cümle çifti:\n",
      "sentence1                        Kargo teslimatı için kimlik bilgisi gerekliliği var mı?\n",
      "sentence2                                  Kargo teslimi için kimlik belgesi gerekir mi?\n",
      "sentence1_translation      Требуется ли идентификационная информация для доставки груза?\n",
      "sentence2_translation    Нужен ли документ, удостоверяющий личность, для доставки груза?\n",
      "Name: 24, dtype: object\n",
      "Similarity Score:0.8783736228942871\n",
      "\n"
     ]
    },
    {
     "name": "stderr",
     "output_type": "stream",
     "text": [
      "Asking to truncate to max_length but no maximum length is provided and the model has no predefined maximum length. Default to no truncation.\n"
     ]
    },
    {
     "name": "stdout",
     "output_type": "stream",
     "text": [
      "25. Cümle çifti:\n",
      "sentence1                          Kargo kutusu boyutları hakkında bilgi alabilir miyim?\n",
      "sentence2                       Kargo paketi boyutları hakkında bilgi verebilir misiniz?\n",
      "sentence1_translation             Могу ли я узнать информацию о размерах упаковки груза?\n",
      "sentence2_translation    Можете ли вы предоставить информацию о размерах упаковки груза?\n",
      "Name: 25, dtype: object\n",
      "Similarity Score:0.9131344556808472\n",
      "\n"
     ]
    },
    {
     "name": "stderr",
     "output_type": "stream",
     "text": [
      "Asking to truncate to max_length but no maximum length is provided and the model has no predefined maximum length. Default to no truncation.\n"
     ]
    },
    {
     "name": "stdout",
     "output_type": "stream",
     "text": [
      "26. Cümle çifti:\n",
      "sentence1                     Kargomu sigortalatmalı mıyım?\n",
      "sentence2                  Kargonu sigorta ettirmeli miyim?\n",
      "sentence1_translation       Следует ли страховать мой груз?\n",
      "sentence2_translation    Должен ли я застраховать ваш груз?\n",
      "Name: 26, dtype: object\n",
      "Similarity Score:0.8489395380020142\n",
      "\n"
     ]
    },
    {
     "name": "stderr",
     "output_type": "stream",
     "text": [
      "Asking to truncate to max_length but no maximum length is provided and the model has no predefined maximum length. Default to no truncation.\n"
     ]
    },
    {
     "name": "stdout",
     "output_type": "stream",
     "text": [
      "27. Cümle çifti:\n",
      "sentence1                        Kargo gönderiminde hangi paketleme malzemeleri kullanılmalı?\n",
      "sentence2                          Kargo gönderirken hangi ambalaj malzemeleri kullanmalıyım?\n",
      "sentence1_translation    Какие упаковочные материалы следует использовать при отправке груза?\n",
      "sentence2_translation    Какие упаковочные материалы следует использовать при отправке груза?\n",
      "Name: 27, dtype: object\n",
      "Similarity Score:1.000000238418579\n",
      "\n"
     ]
    },
    {
     "name": "stderr",
     "output_type": "stream",
     "text": [
      "Asking to truncate to max_length but no maximum length is provided and the model has no predefined maximum length. Default to no truncation.\n"
     ]
    },
    {
     "name": "stdout",
     "output_type": "stream",
     "text": [
      "28. Cümle çifti:\n",
      "sentence1                             Kargom ne kadar sürede teslim edilir?\n",
      "sentence2                                 Kargonun ulaşması ne kadar sürer?\n",
      "sentence1_translation    В течение какого времени будет доставлен мой груз?\n",
      "sentence2_translation              Сколько времени занимает доставка груза?\n",
      "Name: 28, dtype: object\n",
      "Similarity Score:0.8278765678405762\n",
      "\n"
     ]
    },
    {
     "name": "stderr",
     "output_type": "stream",
     "text": [
      "Asking to truncate to max_length but no maximum length is provided and the model has no predefined maximum length. Default to no truncation.\n"
     ]
    },
    {
     "name": "stdout",
     "output_type": "stream",
     "text": [
      "29. Cümle çifti:\n",
      "sentence1                  Kargo takip numarası nasıl elde edebilirim?\n",
      "sentence2                  Kargonun takip numarasını nasıl alabilirim?\n",
      "sentence1_translation    Как я могу получить номер отслеживания груза?\n",
      "sentence2_translation            Как я могу получить трек-номер груза?\n",
      "Name: 29, dtype: object\n",
      "Similarity Score:0.9771004915237427\n",
      "\n"
     ]
    },
    {
     "name": "stderr",
     "output_type": "stream",
     "text": [
      "Asking to truncate to max_length but no maximum length is provided and the model has no predefined maximum length. Default to no truncation.\n"
     ]
    },
    {
     "name": "stdout",
     "output_type": "stream",
     "text": [
      "30. Cümle çifti:\n",
      "sentence1                Ürünümü geri göndermek istiyorum, hangi adımları izlemeliyim?\n",
      "sentence2                            İade işlemi için hangi prosedürü takip etmeliyim?\n",
      "sentence1_translation       Я хочу вернуть свой товар, какие шаги мне следует сделать?\n",
      "sentence2_translation       Какую процедуру мне следует следовать для возврата товара?\n",
      "Name: 30, dtype: object\n",
      "Similarity Score:0.7898526191711426\n",
      "\n"
     ]
    },
    {
     "name": "stderr",
     "output_type": "stream",
     "text": [
      "Asking to truncate to max_length but no maximum length is provided and the model has no predefined maximum length. Default to no truncation.\n"
     ]
    },
    {
     "name": "stdout",
     "output_type": "stream",
     "text": [
      "31. Cümle çifti:\n",
      "sentence1                Kargomun güzergahını nasıl takip edebilirim?\n",
      "sentence2                      Kargonun rotasını nasıl izleyebilirim?\n",
      "sentence1_translation       Как мне отслеживать маршрут моей посылки?\n",
      "sentence2_translation           Как я могу отслеживать маршрут груза?\n",
      "Name: 31, dtype: object\n",
      "Similarity Score:0.8659934997558594\n",
      "\n"
     ]
    },
    {
     "name": "stderr",
     "output_type": "stream",
     "text": [
      "Asking to truncate to max_length but no maximum length is provided and the model has no predefined maximum length. Default to no truncation.\n"
     ]
    },
    {
     "name": "stdout",
     "output_type": "stream",
     "text": [
      "32. Cümle çifti:\n",
      "sentence1                     Kargo takip numarasını nereden bulabilirim?\n",
      "sentence2                       Kargo gönderi numarasını nereden bulunur?\n",
      "sentence1_translation    Откуда я могу получить номер отслеживания груза?\n",
      "sentence2_translation     Откуда можно получить номер отслеживания груза?\n",
      "Name: 32, dtype: object\n",
      "Similarity Score:0.9466125965118408\n",
      "\n"
     ]
    },
    {
     "name": "stderr",
     "output_type": "stream",
     "text": [
      "Asking to truncate to max_length but no maximum length is provided and the model has no predefined maximum length. Default to no truncation.\n"
     ]
    },
    {
     "name": "stdout",
     "output_type": "stream",
     "text": [
      "33. Cümle çifti:\n",
      "sentence1                    Kargonun hangi taşıyıcıyla gönderildiğini nereden öğrenebilirim?\n",
      "sentence2                Kargonun hangi kargo şirketi tarafından taşındığını nasıl öğrenirim?\n",
      "sentence1_translation    Где я могу узнать, с каким перевозчиком была отправлена моя посылка?\n",
      "sentence2_translation          Как узнать, какой курьерской компанией доставлена моя посылка?\n",
      "Name: 33, dtype: object\n",
      "Similarity Score:0.8630995750427246\n",
      "\n"
     ]
    },
    {
     "name": "stderr",
     "output_type": "stream",
     "text": [
      "Asking to truncate to max_length but no maximum length is provided and the model has no predefined maximum length. Default to no truncation.\n"
     ]
    },
    {
     "name": "stdout",
     "output_type": "stream",
     "text": [
      "34. Cümle çifti:\n",
      "sentence1                Kargonun ne kadar süre içinde teslim edilmesi gerekiyor?\n",
      "sentence2                                  Kargonun maksimum teslim süresi nedir?\n",
      "sentence1_translation    В течение какого времени должна быть доставлена посылка?\n",
      "sentence2_translation                     Каков максимальный срок доставки груза?\n",
      "Name: 34, dtype: object\n",
      "Similarity Score:0.7765101194381714\n",
      "\n"
     ]
    },
    {
     "name": "stderr",
     "output_type": "stream",
     "text": [
      "Asking to truncate to max_length but no maximum length is provided and the model has no predefined maximum length. Default to no truncation.\n"
     ]
    },
    {
     "name": "stdout",
     "output_type": "stream",
     "text": [
      "35. Cümle çifti:\n",
      "sentence1                     Kargomu yeni bir adrese yönlendirebilir miyim?\n",
      "sentence2                   Kargonun teslimat adresini değiştirebilir miyim?\n",
      "sentence1_translation    Могу ли я перенаправить мою посылку на новый адрес?\n",
      "sentence2_translation               Могу ли я изменить адрес доставки груза?\n",
      "Name: 35, dtype: object\n",
      "Similarity Score:0.8198894262313843\n",
      "\n"
     ]
    },
    {
     "name": "stderr",
     "output_type": "stream",
     "text": [
      "Asking to truncate to max_length but no maximum length is provided and the model has no predefined maximum length. Default to no truncation.\n"
     ]
    },
    {
     "name": "stdout",
     "output_type": "stream",
     "text": [
      "36. Cümle çifti:\n",
      "sentence1                         Ürünün durumu hakkında güncel bilgi alabilir miyim?\n",
      "sentence2                                                Ürünün şu anki durumu nedir?\n",
      "sentence1_translation    Могу ли я получить актуальную информацию о состоянии товара?\n",
      "sentence2_translation                                Каково текущее состояние товара?\n",
      "Name: 36, dtype: object\n",
      "Similarity Score:0.7897405624389648\n",
      "\n"
     ]
    },
    {
     "name": "stderr",
     "output_type": "stream",
     "text": [
      "Asking to truncate to max_length but no maximum length is provided and the model has no predefined maximum length. Default to no truncation.\n"
     ]
    },
    {
     "name": "stdout",
     "output_type": "stream",
     "text": [
      "37. Cümle çifti:\n",
      "sentence1                         Kargo ücretini hangi yöntemlerle ödeyebilirim?\n",
      "sentence2                Kargo ücretini hangi ödeme seçenekleriyle ödeyebilirim?\n",
      "sentence1_translation    Какие способы оплаты стоимости доставки груза доступны?\n",
      "sentence2_translation      Какие опции оплаты стоимости доставки груза доступны?\n",
      "Name: 37, dtype: object\n",
      "Similarity Score:0.970693826675415\n",
      "\n"
     ]
    },
    {
     "name": "stderr",
     "output_type": "stream",
     "text": [
      "Asking to truncate to max_length but no maximum length is provided and the model has no predefined maximum length. Default to no truncation.\n"
     ]
    },
    {
     "name": "stdout",
     "output_type": "stream",
     "text": [
      "38. Cümle çifti:\n",
      "sentence1                     Kargomu hangi saatler arasında teslim alabilirim?\n",
      "sentence2                Kargonun teslim alınabileceği saat dilimleri nelerdir?\n",
      "sentence1_translation                   В какое время я могу забрать свой груз?\n",
      "sentence2_translation                         В какое время можно забрать груз?\n",
      "Name: 38, dtype: object\n",
      "Similarity Score:0.9250708222389221\n",
      "\n"
     ]
    },
    {
     "name": "stderr",
     "output_type": "stream",
     "text": [
      "Asking to truncate to max_length but no maximum length is provided and the model has no predefined maximum length. Default to no truncation.\n"
     ]
    },
    {
     "name": "stdout",
     "output_type": "stream",
     "text": [
      "39. Cümle çifti:\n",
      "sentence1                                   Kargom elime ulaşmadı, bu durumda ne yapmalıyım?\n",
      "sentence2                Kargonun hala ulaşmamış olması durumunda ne gibi adımlar atmalıyım?\n",
      "sentence1_translation                          Моя посылка не дошла до меня, что мне делать?\n",
      "sentence2_translation           Что следует предпринять, если моя посылка еще не доставлена?\n",
      "Name: 39, dtype: object\n",
      "Similarity Score:0.8317698240280151\n",
      "\n"
     ]
    },
    {
     "name": "stderr",
     "output_type": "stream",
     "text": [
      "Asking to truncate to max_length but no maximum length is provided and the model has no predefined maximum length. Default to no truncation.\n"
     ]
    },
    {
     "name": "stdout",
     "output_type": "stream",
     "text": [
      "40. Cümle çifti:\n",
      "sentence1                  Kargomun teslimatı ne kadar süre içinde yapılır?\n",
      "sentence2                           Kargonun teslimatı ne kadar zaman alır?\n",
      "sentence1_translation    В течение какого времени будет доставлен мой груз?\n",
      "sentence2_translation              Сколько времени занимает доставка груза?\n",
      "Name: 40, dtype: object\n",
      "Similarity Score:0.8278765678405762\n",
      "\n"
     ]
    },
    {
     "name": "stderr",
     "output_type": "stream",
     "text": [
      "Asking to truncate to max_length but no maximum length is provided and the model has no predefined maximum length. Default to no truncation.\n"
     ]
    },
    {
     "name": "stdout",
     "output_type": "stream",
     "text": [
      "41. Cümle çifti:\n",
      "sentence1                      Kargo takip numarasını nereden alabilirim?\n",
      "sentence2                         Kargo gönderi numarası nereden bulunur?\n",
      "sentence1_translation    Откуда я могу получить номер отслеживания груза?\n",
      "sentence2_translation     Откуда можно получить номер отслеживания груза?\n",
      "Name: 41, dtype: object\n",
      "Similarity Score:0.9466125965118408\n",
      "\n"
     ]
    },
    {
     "name": "stderr",
     "output_type": "stream",
     "text": [
      "Asking to truncate to max_length but no maximum length is provided and the model has no predefined maximum length. Default to no truncation.\n"
     ]
    },
    {
     "name": "stdout",
     "output_type": "stream",
     "text": [
      "42. Cümle çifti:\n",
      "sentence1                              İade işlemi nasıl başlatılır?\n",
      "sentence2                       Ürünü iade etmek için ne yapmalıyım?\n",
      "sentence1_translation                 Как начать процедуру возврата?\n",
      "sentence2_translation    Что мне нужно сделать, чтобы вернуть товар?\n",
      "Name: 42, dtype: object\n",
      "Similarity Score:0.6666393280029297\n",
      "\n"
     ]
    },
    {
     "name": "stderr",
     "output_type": "stream",
     "text": [
      "Asking to truncate to max_length but no maximum length is provided and the model has no predefined maximum length. Default to no truncation.\n"
     ]
    },
    {
     "name": "stdout",
     "output_type": "stream",
     "text": [
      "43. Cümle çifti:\n",
      "sentence1                Kargonun güzergahını nasıl kontrol edebilirim?\n",
      "sentence2                        Kargonun rotasını nasıl izleyebilirim?\n",
      "sentence1_translation             Как я могу отслеживать маршрут груза?\n",
      "sentence2_translation            Как я могу следить за маршрутом груза?\n",
      "Name: 43, dtype: object\n",
      "Similarity Score:0.9721986055374146\n",
      "\n"
     ]
    },
    {
     "name": "stderr",
     "output_type": "stream",
     "text": [
      "Asking to truncate to max_length but no maximum length is provided and the model has no predefined maximum length. Default to no truncation.\n"
     ]
    },
    {
     "name": "stdout",
     "output_type": "stream",
     "text": [
      "44. Cümle çifti:\n",
      "sentence1                 Kargo takip numarasını nereden öğrenebilirim?\n",
      "sentence2                   Kargonun takip numarasını nasıl alabilirim?\n",
      "sentence1_translation    Откуда я могу узнать номер отслеживания груза?\n",
      "sentence2_translation     Как я могу получить номер отслеживания груза?\n",
      "Name: 44, dtype: object\n",
      "Similarity Score:0.923587441444397\n",
      "\n"
     ]
    },
    {
     "name": "stderr",
     "output_type": "stream",
     "text": [
      "Asking to truncate to max_length but no maximum length is provided and the model has no predefined maximum length. Default to no truncation.\n"
     ]
    },
    {
     "name": "stdout",
     "output_type": "stream",
     "text": [
      "45. Cümle çifti:\n",
      "sentence1                       Kargonun hangi nakliye firmasıyla gönderildiğini nereden öğrenebilirim?\n",
      "sentence2                                     Kargonun taşıma şirketi hangisi olduğunu nasıl öğrenirim?\n",
      "sentence1_translation    Где я могу узнать, с какой транспортной компанией была отправлена моя посылка?\n",
      "sentence2_translation             Как я могу узнать, какая компания является перевозчиком моей посылки?\n",
      "Name: 45, dtype: object\n",
      "Similarity Score:0.8745273351669312\n",
      "\n"
     ]
    },
    {
     "name": "stderr",
     "output_type": "stream",
     "text": [
      "Asking to truncate to max_length but no maximum length is provided and the model has no predefined maximum length. Default to no truncation.\n"
     ]
    },
    {
     "name": "stdout",
     "output_type": "stream",
     "text": [
      "46. Cümle çifti:\n",
      "sentence1                Kargonun kaç günde teslim edilmesi gerekiyor?\n",
      "sentence2                          Kargonun teslim süresi ne kadardır?\n",
      "sentence1_translation         Сколько дней должна быть доставка груза?\n",
      "sentence2_translation                       Каков срок доставки груза?\n",
      "Name: 46, dtype: object\n",
      "Similarity Score:0.9002138376235962\n",
      "\n"
     ]
    },
    {
     "name": "stderr",
     "output_type": "stream",
     "text": [
      "Asking to truncate to max_length but no maximum length is provided and the model has no predefined maximum length. Default to no truncation.\n"
     ]
    },
    {
     "name": "stdout",
     "output_type": "stream",
     "text": [
      "47. Cümle çifti:\n",
      "sentence1                     Kargomu yeni bir adrese yönlendirebilir miyim?\n",
      "sentence2                   Kargonun teslimat adresini değiştirebilir miyim?\n",
      "sentence1_translation    Могу ли я перенаправить мою посылку на новый адрес?\n",
      "sentence2_translation               Могу ли я изменить адрес доставки груза?\n",
      "Name: 47, dtype: object\n",
      "Similarity Score:0.8198894262313843\n",
      "\n"
     ]
    },
    {
     "name": "stderr",
     "output_type": "stream",
     "text": [
      "Asking to truncate to max_length but no maximum length is provided and the model has no predefined maximum length. Default to no truncation.\n"
     ]
    },
    {
     "name": "stdout",
     "output_type": "stream",
     "text": [
      "48. Cümle çifti:\n",
      "sentence1                       Ürünün güncel durumu hakkında bilgi alabilir miyim?\n",
      "sentence2                                              Ürünün şu anki durumu nedir?\n",
      "sentence1_translation    Могу ли я узнать актуальную информацию о состоянии товара?\n",
      "sentence2_translation                              Каково текущее состояние товара?\n",
      "Name: 48, dtype: object\n",
      "Similarity Score:0.7859933376312256\n",
      "\n"
     ]
    },
    {
     "name": "stderr",
     "output_type": "stream",
     "text": [
      "Asking to truncate to max_length but no maximum length is provided and the model has no predefined maximum length. Default to no truncation.\n"
     ]
    },
    {
     "name": "stdout",
     "output_type": "stream",
     "text": [
      "49. Cümle çifti:\n",
      "sentence1                                 Kargo ücretini nasıl ödemeniz gerekiyor?\n",
      "sentence2                Kargo ücretini hangi ödeme yöntemiyle ödemeniz gerekiyor?\n",
      "sentence1_translation               Как следует оплатить стоимость доставки груза?\n",
      "sentence2_translation    Каким способом следует оплатить стоимость доставки груза?\n",
      "Name: 49, dtype: object\n",
      "Similarity Score:0.9655166864395142\n",
      "\n"
     ]
    }
   ],
   "source": [
    "sbert_ru_list = []\n",
    "for index, row in df.iterrows():\n",
    "    score = sbert_ru.get_similarity([row[\"sentence1_translation\"],row[\"sentence2_translation\"]])\n",
    "    print(f\"{index}. Cümle çifti:\\n{row}\\nSimilarity Score:{score}\\n\")\n",
    "    sbert_ru_list.append(score)"
   ]
  },
  {
   "cell_type": "markdown",
   "metadata": {},
   "source": [
    "49 cümle için 148 saniye"
   ]
  },
  {
   "cell_type": "code",
   "execution_count": 10,
   "metadata": {},
   "outputs": [
    {
     "name": "stdout",
     "output_type": "stream",
     "text": [
      "sbert_ru ortalama: 0.8698695504665375\n"
     ]
    }
   ],
   "source": [
    "average = sum(sbert_ru_list) / len(sbert_ru_list)\n",
    "df[\"scores\"] = sbert_ru_list\n",
    "print(f\"sbert_ru ortalama: {average}\")"
   ]
  },
  {
   "cell_type": "code",
   "execution_count": null,
   "metadata": {},
   "outputs": [],
   "source": []
  }
 ],
 "metadata": {
  "kernelspec": {
   "display_name": ".venv",
   "language": "python",
   "name": "python3"
  },
  "language_info": {
   "codemirror_mode": {
    "name": "ipython",
    "version": 3
   },
   "file_extension": ".py",
   "mimetype": "text/x-python",
   "name": "python",
   "nbconvert_exporter": "python",
   "pygments_lexer": "ipython3",
   "version": "3.8.10"
  }
 },
 "nbformat": 4,
 "nbformat_minor": 2
}
